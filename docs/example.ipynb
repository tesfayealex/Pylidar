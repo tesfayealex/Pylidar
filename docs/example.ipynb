{
 "cells": [
  {
   "cell_type": "code",
   "execution_count": 1,
   "metadata": {},
   "outputs": [],
   "source": [
    "import sys\n",
    "import os\n",
    "sys.path.append(os.path.abspath(os.path.join('../src/')))\n",
    "from lidar_data_processor import Lidar_Processor"
   ]
  },
  {
   "cell_type": "code",
   "execution_count": null,
   "metadata": {},
   "outputs": [],
   "source": [
    "polygon_array= [-93.756155, 41.918015, -93.747334, 41.921429]\n",
    "processor = Lidar_Processor(polygon_array , 'Pylidar/src/assets/pipeline_template.json', 'Pylidar/src/assets/metadata.csv', epsg=\"4326\")\n",
    "pipeline_array = processor.pipline_executer()\n",
    "geo_df = processor.get_geo_dep(pipeline_array)\n",
    "geo_df"
   ]
  }
 ],
 "metadata": {
  "kernelspec": {
   "display_name": "Python 3.9.13 ('py39')",
   "language": "python",
   "name": "python3"
  },
  "language_info": {
   "codemirror_mode": {
    "name": "ipython",
    "version": 3
   },
   "file_extension": ".py",
   "mimetype": "text/x-python",
   "name": "python",
   "nbconvert_exporter": "python",
   "pygments_lexer": "ipython3",
   "version": "3.9.13"
  },
  "orig_nbformat": 4,
  "vscode": {
   "interpreter": {
    "hash": "9ca4927967e4b487eb71f63cbe03d65b4ac6d3b6df7229d56ebb2b9f045aefb2"
   }
  }
 },
 "nbformat": 4,
 "nbformat_minor": 2
}
