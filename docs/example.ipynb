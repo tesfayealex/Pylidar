{
 "cells": [
  {
   "cell_type": "code",
   "execution_count": 2,
   "metadata": {},
   "outputs": [],
   "source": [
    "import sys\n",
    "import os\n",
    "sys.path.append(os.path.abspath(os.path.join('../src/')))\n",
    "from lidar_data_processor import Lidar_Processor"
   ]
  },
  {
   "cell_type": "code",
   "execution_count": 4,
   "metadata": {},
   "outputs": [
    {
     "data": {
      "text/html": [
       "<div>\n",
       "<style scoped>\n",
       "    .dataframe tbody tr th:only-of-type {\n",
       "        vertical-align: middle;\n",
       "    }\n",
       "\n",
       "    .dataframe tbody tr th {\n",
       "        vertical-align: top;\n",
       "    }\n",
       "\n",
       "    .dataframe thead th {\n",
       "        text-align: right;\n",
       "    }\n",
       "</style>\n",
       "<table border=\"1\" class=\"dataframe\">\n",
       "  <thead>\n",
       "    <tr style=\"text-align: right;\">\n",
       "      <th></th>\n",
       "      <th>elevation</th>\n",
       "      <th>geometry</th>\n",
       "    </tr>\n",
       "  </thead>\n",
       "  <tbody>\n",
       "    <tr>\n",
       "      <th>0</th>\n",
       "      <td>275.39</td>\n",
       "      <td>POINT (447619.533 4654049.612)</td>\n",
       "    </tr>\n",
       "    <tr>\n",
       "      <th>1</th>\n",
       "      <td>275.37</td>\n",
       "      <td>POINT (447617.716 4654049.247)</td>\n",
       "    </tr>\n",
       "    <tr>\n",
       "      <th>2</th>\n",
       "      <td>275.26</td>\n",
       "      <td>POINT (447613.814 4654049.587)</td>\n",
       "    </tr>\n",
       "    <tr>\n",
       "      <th>3</th>\n",
       "      <td>275.28</td>\n",
       "      <td>POINT (447615.579 4654049.952)</td>\n",
       "    </tr>\n",
       "    <tr>\n",
       "      <th>4</th>\n",
       "      <td>275.34</td>\n",
       "      <td>POINT (447620.956 4654051.053)</td>\n",
       "    </tr>\n",
       "    <tr>\n",
       "      <th>...</th>\n",
       "      <td>...</td>\n",
       "      <td>...</td>\n",
       "    </tr>\n",
       "    <tr>\n",
       "      <th>1439566</th>\n",
       "      <td>285.32</td>\n",
       "      <td>POINT (446721.320 4652571.882)</td>\n",
       "    </tr>\n",
       "    <tr>\n",
       "      <th>1439567</th>\n",
       "      <td>285.54</td>\n",
       "      <td>POINT (446714.036 4652572.440)</td>\n",
       "    </tr>\n",
       "    <tr>\n",
       "      <th>1439568</th>\n",
       "      <td>285.47</td>\n",
       "      <td>POINT (446705.371 4652572.439)</td>\n",
       "    </tr>\n",
       "    <tr>\n",
       "      <th>1439569</th>\n",
       "      <td>285.51</td>\n",
       "      <td>POINT (446708.781 4652571.909)</td>\n",
       "    </tr>\n",
       "    <tr>\n",
       "      <th>1439570</th>\n",
       "      <td>285.09</td>\n",
       "      <td>POINT (446701.087 4652572.389)</td>\n",
       "    </tr>\n",
       "  </tbody>\n",
       "</table>\n",
       "<p>1439571 rows × 2 columns</p>\n",
       "</div>"
      ],
      "text/plain": [
       "         elevation                        geometry\n",
       "0           275.39  POINT (447619.533 4654049.612)\n",
       "1           275.37  POINT (447617.716 4654049.247)\n",
       "2           275.26  POINT (447613.814 4654049.587)\n",
       "3           275.28  POINT (447615.579 4654049.952)\n",
       "4           275.34  POINT (447620.956 4654051.053)\n",
       "...            ...                             ...\n",
       "1439566     285.32  POINT (446721.320 4652571.882)\n",
       "1439567     285.54  POINT (446714.036 4652572.440)\n",
       "1439568     285.47  POINT (446705.371 4652572.439)\n",
       "1439569     285.51  POINT (446708.781 4652571.909)\n",
       "1439570     285.09  POINT (446701.087 4652572.389)\n",
       "\n",
       "[1439571 rows x 2 columns]"
      ]
     },
     "execution_count": 4,
     "metadata": {},
     "output_type": "execute_result"
    }
   ],
   "source": [
    "polygon_array= [446112.3120340019  , 4652575.060161518 , 447610.6998241764,4654067.900678839]\n",
    "processor = Lidar_Processor(polygon_array , '../src/assets/pipeline_template.json', '../src/assets/metadata.csv', epsg=26915)\n",
    "geo_df , tiff_file_path = processor.fetch_file()\n",
    "geo_df"
   ]
  },
  {
   "cell_type": "code",
   "execution_count": null,
   "metadata": {},
   "outputs": [],
   "source": []
  },
  {
   "cell_type": "code",
   "execution_count": null,
   "metadata": {},
   "outputs": [],
   "source": []
  }
 ],
 "metadata": {
  "kernelspec": {
   "display_name": "Python 3.9.13 ('py39')",
   "language": "python",
   "name": "python3"
  },
  "language_info": {
   "codemirror_mode": {
    "name": "ipython",
    "version": 3
   },
   "file_extension": ".py",
   "mimetype": "text/x-python",
   "name": "python",
   "nbconvert_exporter": "python",
   "pygments_lexer": "ipython3",
   "version": "3.9.13"
  },
  "orig_nbformat": 4,
  "vscode": {
   "interpreter": {
    "hash": "9ca4927967e4b487eb71f63cbe03d65b4ac6d3b6df7229d56ebb2b9f045aefb2"
   }
  }
 },
 "nbformat": 4,
 "nbformat_minor": 2
}
