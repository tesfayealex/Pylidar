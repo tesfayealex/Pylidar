{
 "cells": [
  {
   "cell_type": "code",
   "execution_count": 1,
   "metadata": {},
   "outputs": [],
   "source": [
    "import sys\n",
    "import os\n",
    "sys.path.append(os.path.abspath(os.path.join('../src/')))\n",
    "from lidar_data_processor import Lidar_Processor"
   ]
  },
  {
   "cell_type": "code",
   "execution_count": 9,
   "metadata": {},
   "outputs": [
    {
     "name": "stdout",
     "output_type": "stream",
     "text": [
      "(-10436887.43333523, -10435905.484106943, 5148706.389047224, 5149217.145836504)\n",
      "filename    IA_FullState\n",
      "region      IA_FullState\n",
      "year                 NaN\n",
      "xmin         -10758075.0\n",
      "xmax         -10034133.0\n",
      "ymin           4793202.0\n",
      "ymax           5517144.0\n",
      "points      167692896718\n",
      "Name: 227, dtype: object\n",
      "(array('d', [-10436887.43333523, -10436887.43333523, -10435905.484106943, -10435905.484106943, -10436887.43333523]),array('d', [5148706.389047224, 5149217.145836504, 5149217.145836504, 5148706.389047224, 5148706.389047224]))\n",
      "[{'bounds': '([-10436887.43333523, -10435905.484106943],[5148706.389047224, 5149217.145836504])', 'filename': 'https://s3-us-west-2.amazonaws.com/usgs-lidar-public/IA_FullState/ept.json', 'type': 'readers.ept', 'tag': 'readdata'}, {'limits': 'Classification![7:7]', 'type': 'filters.range', 'tag': 'nonoise'}, {'assignment': 'Classification[:]=0', 'tag': 'wipeclasses', 'type': 'filters.assign'}, {'out_srs': 'EPSG:4326', 'tag': 'reprojectUTM', 'type': 'filters.reprojection'}, {'tag': 'groundify', 'type': 'filters.smrf'}, {'limits': 'Classification[2:2]', 'type': 'filters.range', 'tag': 'classify'}, {'filename': 'Pylidar/src/assets/data/IA_FullState.laz', 'inputs': ['classify'], 'tag': 'writerslas', 'type': 'writers.las'}, {'filename': 'Pylidar/src/assets/data/IA_FullState.tif', 'gdalopts': 'tiled=yes,     compress=deflate', 'inputs': ['writerslas'], 'nodata': -9999, 'output_type': 'idw', 'resolution': 1, 'type': 'writers.gdal', 'window_size': 6}]\n",
      "<class 'list'>\n"
     ]
    },
    {
     "ename": "RuntimeError",
     "evalue": "readers.ept: Error reading tile: Could not read from s3-us-west-2.amazonaws.com/usgs-lidar-public/IA_FullState/ept-data/12-1822-2014-2049.laz",
     "output_type": "error",
     "traceback": [
      "\u001b[0;31m---------------------------------------------------------------------------\u001b[0m",
      "\u001b[0;31mRuntimeError\u001b[0m                              Traceback (most recent call last)",
      "\u001b[1;32m/home/etta/Documents/Projects/Pylidar/docs/example.ipynb Cell 2'\u001b[0m in \u001b[0;36m<cell line: 3>\u001b[0;34m()\u001b[0m\n\u001b[1;32m      <a href='vscode-notebook-cell:/home/etta/Documents/Projects/Pylidar/docs/example.ipynb#ch0000001?line=0'>1</a>\u001b[0m polygon_array\u001b[39m=\u001b[39m [\u001b[39m-\u001b[39m\u001b[39m93.756155\u001b[39m, \u001b[39m41.918015\u001b[39m, \u001b[39m-\u001b[39m\u001b[39m93.747334\u001b[39m, \u001b[39m41.921429\u001b[39m]\n\u001b[1;32m      <a href='vscode-notebook-cell:/home/etta/Documents/Projects/Pylidar/docs/example.ipynb#ch0000001?line=1'>2</a>\u001b[0m processor \u001b[39m=\u001b[39m Lidar_Processor(polygon_array , \u001b[39m'\u001b[39m\u001b[39m../src/assets/pipeline_template.json\u001b[39m\u001b[39m'\u001b[39m, \u001b[39m'\u001b[39m\u001b[39m../src/assets/metadata.csv\u001b[39m\u001b[39m'\u001b[39m, epsg\u001b[39m=\u001b[39m\u001b[39m\"\u001b[39m\u001b[39m4326\u001b[39m\u001b[39m\"\u001b[39m)\n\u001b[0;32m----> <a href='vscode-notebook-cell:/home/etta/Documents/Projects/Pylidar/docs/example.ipynb#ch0000001?line=2'>3</a>\u001b[0m geo_df \u001b[39m=\u001b[39m processor\u001b[39m.\u001b[39;49mfetch_file()\n\u001b[1;32m      <a href='vscode-notebook-cell:/home/etta/Documents/Projects/Pylidar/docs/example.ipynb#ch0000001?line=3'>4</a>\u001b[0m geo_df\n",
      "File \u001b[0;32m~/Documents/Projects/Pylidar/src/lidar_data_processor.py:79\u001b[0m, in \u001b[0;36mLidar_Processor.fetch_file\u001b[0;34m(self)\u001b[0m\n\u001b[1;32m     78\u001b[0m \u001b[39mdef\u001b[39;00m \u001b[39mfetch_file\u001b[39m(\u001b[39mself\u001b[39m):\n\u001b[0;32m---> 79\u001b[0m     pipeline_array \u001b[39m=\u001b[39m \u001b[39mself\u001b[39;49m\u001b[39m.\u001b[39;49mpipline_executer()\n\u001b[1;32m     80\u001b[0m     \u001b[39mself\u001b[39m\u001b[39m.\u001b[39mgeo_df \u001b[39m=\u001b[39m \u001b[39mself\u001b[39m\u001b[39m.\u001b[39mget_geo_dep(pipeline_array)\n\u001b[1;32m     81\u001b[0m     \u001b[39mprint\u001b[39m(\u001b[39mself\u001b[39m\u001b[39m.\u001b[39mgeo_df)\n",
      "File \u001b[0;32m~/Documents/Projects/Pylidar/src/lidar_data_processor.py:46\u001b[0m, in \u001b[0;36mLidar_Processor.pipline_executer\u001b[0;34m(self)\u001b[0m\n\u001b[1;32m     44\u001b[0m \u001b[39mprint\u001b[39m(\u001b[39mtype\u001b[39m(\u001b[39mself\u001b[39m\u001b[39m.\u001b[39mpipeline[\u001b[39m'\u001b[39m\u001b[39mpipeline\u001b[39m\u001b[39m'\u001b[39m]))\n\u001b[1;32m     45\u001b[0m pipeline \u001b[39m=\u001b[39m pdal\u001b[39m.\u001b[39mPipeline(json\u001b[39m.\u001b[39mdumps(\u001b[39mself\u001b[39m\u001b[39m.\u001b[39mpipeline))\n\u001b[0;32m---> 46\u001b[0m pipeline\u001b[39m.\u001b[39;49mexecute()\n\u001b[1;32m     47\u001b[0m pipeline_array \u001b[39m=\u001b[39m pipeline\u001b[39m.\u001b[39marrays[\u001b[39m0\u001b[39m]\n\u001b[1;32m     48\u001b[0m \u001b[39mreturn\u001b[39;00m pipeline_array\n",
      "\u001b[0;31mRuntimeError\u001b[0m: readers.ept: Error reading tile: Could not read from s3-us-west-2.amazonaws.com/usgs-lidar-public/IA_FullState/ept-data/12-1822-2014-2049.laz"
     ]
    }
   ],
   "source": [
    "polygon_array= [-93.756155, 41.918015, -93.747334, 41.921429]\n",
    "processor = Lidar_Processor(polygon_array , '../src/assets/pipeline_template.json', '../src/assets/metadata.csv', epsg=\"4326\")\n",
    "geo_df = processor.fetch_file()\n",
    "geo_df"
   ]
  }
 ],
 "metadata": {
  "kernelspec": {
   "display_name": "Python 3.9.13 ('py39')",
   "language": "python",
   "name": "python3"
  },
  "language_info": {
   "codemirror_mode": {
    "name": "ipython",
    "version": 3
   },
   "file_extension": ".py",
   "mimetype": "text/x-python",
   "name": "python",
   "nbconvert_exporter": "python",
   "pygments_lexer": "ipython3",
   "version": "3.9.13"
  },
  "orig_nbformat": 4,
  "vscode": {
   "interpreter": {
    "hash": "9ca4927967e4b487eb71f63cbe03d65b4ac6d3b6df7229d56ebb2b9f045aefb2"
   }
  }
 },
 "nbformat": 4,
 "nbformat_minor": 2
}
